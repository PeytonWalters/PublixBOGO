{
 "cells": [
  {
   "cell_type": "code",
   "execution_count": null,
   "metadata": {},
   "outputs": [],
   "source": [
    "import time, random #\n",
    "import requests # retrieve information from the web\n",
    "from bs4 import BeautifulSoup as bs # HTML parser\n",
    "from IPython.core.display import display, HTML #Not critical, used for displaying HTML. \n",
    "import pandas as pd\n",
    "from datetime import date"
   ]
  },
  {
   "cell_type": "markdown",
   "metadata": {},
   "source": [
    "Checking Publix's Robots.txt: https://www.publix.com/robots.txt\\\n",
    "`# robots.txt - Publix WWW Retail Site`\\\n",
    "`User-agent: *`\\\n",
    "`Disallow:`"
   ]
  },
  {
   "cell_type": "code",
   "execution_count": 3,
   "metadata": {},
   "outputs": [],
   "source": [
    "url = \"https://accessibleweeklyad.publix.com/PublixAccessibility/BrowseByListing/ByCategory/?ListingSort=8&StoreID=2500492&CategoryID=5232540\"\n",
    "response = requests.get(url)\n",
    "response.status_code\n",
    "soup = bs(response.text)\n"
   ]
  },
  {
   "cell_type": "code",
   "execution_count": 4,
   "metadata": {},
   "outputs": [],
   "source": [
    "action_gridpage = soup.find(class_=\"action-gridpage\")\n",
    "unitB = action_gridpage.find_all(class_ = \"unitB\")"
   ]
  },
  {
   "cell_type": "code",
   "execution_count": 5,
   "metadata": {},
   "outputs": [],
   "source": [
    "PlantationSqareBogo = pd.DataFrame(columns=[\"title\",\"deal\", \"dealInfo\",\"value\",\"expirationDate\",\"validDate\",\"redemptionInfo\",\"couponAPITerm\",\"description\"])"
   ]
  },
  {
   "cell_type": "code",
   "execution_count": 6,
   "metadata": {},
   "outputs": [],
   "source": [
    "for item in unitB:\n",
    "    titles = item.find('div',{'class':'action-elide title'}).text if (item.find('div',{'class':'action-elide title'})) != None else ''\n",
    "    deals = item.find('div',{'class':'action-elide deal'}).text if (item.find('div',{'class':'action-elide deal'})) != None else ''\n",
    "    dealInfos = item.find('div',{'class':'action-elide additionalDealInfo'}).text if (item.find('div',{'class':'action-elide additionalDealInfo'})) != None else ''\n",
    "    values = item.find('p',{'class':'valueText'}).text if (item.find('p',{'class':'valueText'})) != None else ''\n",
    "    expirationDates = item.find('p',{'class':'expirationDate'}).text if (item.find('p',{'class':'expirationDate'})) != None else ''\n",
    "    validDates = item.find('div',{'class':'action-elide validDates'}).text if (item.find('div',{'class':'action-elide validDates'})) != None else ''\n",
    "    redemptionInfos = item.find('div',{'class':'containRedemptionInfo'}).text if (item.find('div',{'class':'containRedemptionInfo'})) != None else ''\n",
    "    couponAPITerms = item.find('p',{'class':'couponAPITerms'}).text if (item.find('p',{'class':'couponAPITerms'})) != None else ''\n",
    "    descriptions = item.find('div',{'class':'description'}).text if (item.find('div',{'class':'description'})) != None else ''\n",
    "    \n",
    "    PlantationSqareBogo.loc[len(PlantationSqareBogo.index)] = [titles,deals,dealInfos,values,expirationDates,validDates,redemptionInfos,couponAPITerms,descriptions]\n",
    "\n",
    "PlantationSqareBogo = PlantationSqareBogo.replace(r'\\n','', regex=True) "
   ]
  },
  {
   "cell_type": "code",
   "execution_count": 7,
   "metadata": {},
   "outputs": [],
   "source": [
    "PlantationSqareBogo.to_csv('Publix2500492_Bogo_' + time.strftime('%Y-%m-%d')+'.csv', index=False)"
   ]
  }
 ],
 "metadata": {
  "kernelspec": {
   "display_name": "Python 3",
   "language": "python",
   "name": "python3"
  },
  "language_info": {
   "codemirror_mode": {
    "name": "ipython",
    "version": 3
   },
   "file_extension": ".py",
   "mimetype": "text/x-python",
   "name": "python",
   "nbconvert_exporter": "python",
   "pygments_lexer": "ipython3",
   "version": "3.11.8"
  }
 },
 "nbformat": 4,
 "nbformat_minor": 2
}
